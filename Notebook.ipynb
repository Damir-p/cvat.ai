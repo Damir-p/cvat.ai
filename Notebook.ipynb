{
 "cells": [
  {
   "cell_type": "code",
   "execution_count": null,
   "metadata": {},
   "outputs": [],
   "source": [
    "import matplotlib.pyplot as plt\n",
    "import os"
   ]
  },
  {
   "cell_type": "code",
   "execution_count": null,
   "metadata": {},
   "outputs": [],
   "source": [
    "plot_files = os.listdir(\"plots\")\n",
    "\n",
    "plot_files = [file for file in plot_files if file.endswith(\".png\")]\n",
    "\n",
    "plot_files.sort()\n"
   ]
  },
  {
   "cell_type": "code",
   "execution_count": null,
   "metadata": {},
   "outputs": [],
   "source": [
    "num_plots = len(plot_files)\n",
    "fig, axes = plt.subplots(nrows=num_plots, figsize=(8, 4 * num_plots))\n",
    "\n",
    "for i, plot_file in enumerate(plot_files):\n",
    "    plot_path = os.path.join(\"plots\", plot_file)\n",
    "    img = plt.imread(plot_path)\n",
    "\n",
    "    axes[i].imshow(img)\n",
    "    axes[i].axis(\"off\")\n",
    "\n",
    "plt.tight_layout()\n",
    "plt.show()\n"
   ]
  }
 ],
 "metadata": {
  "language_info": {
   "name": "python"
  },
  "orig_nbformat": 4
 },
 "nbformat": 4,
 "nbformat_minor": 2
}

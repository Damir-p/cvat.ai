{
 "cells": [
  {
   "cell_type": "code",
   "execution_count": null,
   "metadata": {},
   "outputs": [],
   "source": [
    "from plot_drawer import GraphDrawer\n",
    "from IPython.display import Image, display\n",
    "\n",
    "drawer = GraphDrawer()\n",
    "\n",
    "jsonfile = \"json_file.json\"\n",
    "\n",
    "plots_paths = drawer.draw_plots(jsonfile)\n",
    "\n",
    "for plot_path in plots_paths:\n",
    "    display(Image(filename=plot_path))\n"
   ]
  }
 ],
 "metadata": {
  "language_info": {
   "name": "python"
  },
  "orig_nbformat": 4
 },
 "nbformat": 4,
 "nbformat_minor": 2
}
